{
 "cells": [
  {
   "cell_type": "markdown",
   "id": "2221a986-f000-4909-be11-9fbd0ac58084",
   "metadata": {},
   "source": [
    "Question no.1"
   ]
  },
  {
   "cell_type": "code",
   "execution_count": null,
   "id": "28fafe42-3caf-498d-8b5f-35fc351e2f94",
   "metadata": {},
   "outputs": [],
   "source": [
    " What are the three measures of central tendency?"
   ]
  },
  {
   "cell_type": "code",
   "execution_count": null,
   "id": "5974f792-01fa-4825-a36c-e5777d7e77e5",
   "metadata": {},
   "outputs": [],
   "source": [
    "Ans > Three measurements of central tendency 1> mean , 2> median , 3> mode"
   ]
  },
  {
   "cell_type": "markdown",
   "id": "68fa4259-1fc6-438a-9fce-70ea24fed4e5",
   "metadata": {},
   "source": [
    "Question no.2"
   ]
  },
  {
   "cell_type": "code",
   "execution_count": null,
   "id": "81db36a1-28d8-49e0-9fc8-27112ab4cc2d",
   "metadata": {},
   "outputs": [],
   "source": [
    "What is the difference between the mean, median, and mode? How are they used to measure the \n",
    "central tendency of a dataset?"
   ]
  },
  {
   "cell_type": "code",
   "execution_count": null,
   "id": "f0c742c5-0ffc-42c5-b071-5eacf2a96768",
   "metadata": {},
   "outputs": [],
   "source": [
    "Ans> Mean is the average value of the given observations.\n",
    "     Median is the middle value of the given observations. \n",
    "     Mode is the most repeated value in the given observation.     "
   ]
  },
  {
   "cell_type": "code",
   "execution_count": 19,
   "id": "65080352-7bfc-4081-8c03-e158e3fec1cf",
   "metadata": {},
   "outputs": [],
   "source": [
    "# Use of mean from dataset\n",
    "import numpy as np\n",
    "import seaborn as sns\n",
    "from scipy import stats\n",
    "df=sns.load_dataset('tips')"
   ]
  },
  {
   "cell_type": "code",
   "execution_count": 20,
   "id": "9c4dcb7d-cc19-40b3-8326-babfdb615380",
   "metadata": {},
   "outputs": [
    {
     "data": {
      "text/plain": [
       "19.78594262295082"
      ]
     },
     "execution_count": 20,
     "metadata": {},
     "output_type": "execute_result"
    }
   ],
   "source": [
    "np.mean(df['total_bill'])"
   ]
  },
  {
   "cell_type": "code",
   "execution_count": 21,
   "id": "f169f631-ba30-4851-9d05-2bb3dea103fe",
   "metadata": {},
   "outputs": [
    {
     "data": {
      "text/plain": [
       "17.795"
      ]
     },
     "execution_count": 21,
     "metadata": {},
     "output_type": "execute_result"
    }
   ],
   "source": [
    "np.median(df['total_bill'])"
   ]
  },
  {
   "cell_type": "code",
   "execution_count": 22,
   "id": "c2b3d445-fa77-4206-9665-851b1e8c7e4b",
   "metadata": {},
   "outputs": [
    {
     "name": "stderr",
     "output_type": "stream",
     "text": [
      "/tmp/ipykernel_77/221940126.py:1: FutureWarning: Unlike other reduction functions (e.g. `skew`, `kurtosis`), the default behavior of `mode` typically preserves the axis it acts along. In SciPy 1.11.0, this behavior will change: the default value of `keepdims` will become False, the `axis` over which the statistic is taken will be eliminated, and the value None will no longer be accepted. Set `keepdims` to True or False to avoid this warning.\n",
      "  stats.mode('size')\n",
      "/opt/conda/lib/python3.10/site-packages/scipy/stats/_stats_py.py:112: RuntimeWarning: The input array could not be properly checked for nan values. nan values will be ignored.\n",
      "  warnings.warn(\"The input array could not be properly \"\n",
      "/tmp/ipykernel_77/221940126.py:1: DeprecationWarning: Support for non-numeric arrays has been deprecated as of SciPy 1.9.0 and will be removed in 1.11.0. `pandas.DataFrame.mode` can be used instead, see https://pandas.pydata.org/docs/reference/api/pandas.DataFrame.mode.html.\n",
      "  stats.mode('size')\n"
     ]
    },
    {
     "data": {
      "text/plain": [
       "ModeResult(mode=array(['size'], dtype='<U4'), count=array([1]))"
      ]
     },
     "execution_count": 22,
     "metadata": {},
     "output_type": "execute_result"
    }
   ],
   "source": [
    "stats.mode('size')"
   ]
  },
  {
   "cell_type": "markdown",
   "id": "327d1305-b040-4588-aea3-5e31b50f3df0",
   "metadata": {},
   "source": [
    "Question no.3"
   ]
  },
  {
   "cell_type": "code",
   "execution_count": null,
   "id": "7158e09c-08e9-4f0f-99e6-75daeb68b56a",
   "metadata": {},
   "outputs": [],
   "source": [
    " Measure the three measures of central tendency for the given height data:\n",
    "\n",
    " [178,177,176,177,178.2,178,175,179,180,175,178.9,176.2,177,172.5,178,176.5]"
   ]
  },
  {
   "cell_type": "code",
   "execution_count": 25,
   "id": "4620c1d8-c732-41e3-b228-402896a6f44c",
   "metadata": {},
   "outputs": [],
   "source": [
    "data = [178,177,176,177,178.2,178,175,179,180,175,178.9,176.2,177,172.5,178,176.5]"
   ]
  },
  {
   "cell_type": "code",
   "execution_count": 26,
   "id": "975a2143-5ef1-4cf1-a0ca-81ec52a5209a",
   "metadata": {},
   "outputs": [],
   "source": [
    "import numpy as np\n",
    "import seaborn as sns\n",
    "from scipy import stats"
   ]
  },
  {
   "cell_type": "code",
   "execution_count": 27,
   "id": "1d62622a-104c-430a-aa6d-759c51cabce9",
   "metadata": {},
   "outputs": [
    {
     "data": {
      "text/plain": [
       "177.01875"
      ]
     },
     "execution_count": 27,
     "metadata": {},
     "output_type": "execute_result"
    }
   ],
   "source": [
    "np.mean(data)"
   ]
  },
  {
   "cell_type": "code",
   "execution_count": 28,
   "id": "7504ef7a-2bfc-4af0-a55f-219418d3eeec",
   "metadata": {},
   "outputs": [
    {
     "data": {
      "text/plain": [
       "177.0"
      ]
     },
     "execution_count": 28,
     "metadata": {},
     "output_type": "execute_result"
    }
   ],
   "source": [
    "np.median(data)"
   ]
  },
  {
   "cell_type": "code",
   "execution_count": 29,
   "id": "bdafc66a-c274-4d4e-90e5-714371974173",
   "metadata": {},
   "outputs": [
    {
     "name": "stderr",
     "output_type": "stream",
     "text": [
      "/tmp/ipykernel_77/3267261142.py:1: FutureWarning: Unlike other reduction functions (e.g. `skew`, `kurtosis`), the default behavior of `mode` typically preserves the axis it acts along. In SciPy 1.11.0, this behavior will change: the default value of `keepdims` will become False, the `axis` over which the statistic is taken will be eliminated, and the value None will no longer be accepted. Set `keepdims` to True or False to avoid this warning.\n",
      "  stats.mode(data)\n"
     ]
    },
    {
     "data": {
      "text/plain": [
       "ModeResult(mode=array([177.]), count=array([3]))"
      ]
     },
     "execution_count": 29,
     "metadata": {},
     "output_type": "execute_result"
    }
   ],
   "source": [
    "stats.mode(data)"
   ]
  },
  {
   "cell_type": "markdown",
   "id": "aad0d08e-dff8-4384-928f-16f054f5b713",
   "metadata": {},
   "source": [
    "Question no.4"
   ]
  },
  {
   "cell_type": "code",
   "execution_count": null,
   "id": "a3db2f25-7326-49eb-a97c-a30fa75288a1",
   "metadata": {},
   "outputs": [],
   "source": [
    "Find the standard deviation for the given data:\n",
    "\n",
    "[178,177,176,177,178.2,178,175,179,180,175,178.9,176.2,177,172.5,178,176.5]"
   ]
  },
  {
   "cell_type": "code",
   "execution_count": 30,
   "id": "9ef41839-5a85-4da7-9664-e9732132b0aa",
   "metadata": {},
   "outputs": [],
   "source": [
    "df = [178,177,176,177,178.2,178,175,179,180,175,178.9,176.2,177,172.5,178,176.5]"
   ]
  },
  {
   "cell_type": "code",
   "execution_count": 31,
   "id": "b11c4ec3-5d2a-4508-bc76-1a1c48d512c3",
   "metadata": {},
   "outputs": [],
   "source": [
    "import numpy as np"
   ]
  },
  {
   "cell_type": "code",
   "execution_count": 32,
   "id": "d9363a26-3fd2-4d88-933a-15e4903d9ace",
   "metadata": {},
   "outputs": [
    {
     "data": {
      "text/plain": [
       "1.7885814036548633"
      ]
     },
     "execution_count": 32,
     "metadata": {},
     "output_type": "execute_result"
    }
   ],
   "source": [
    "np.std(df)"
   ]
  },
  {
   "cell_type": "markdown",
   "id": "b80e6751-0012-4046-ba40-2c05dcb13a8f",
   "metadata": {},
   "source": [
    "Question no.5"
   ]
  },
  {
   "cell_type": "code",
   "execution_count": null,
   "id": "1f727d8a-6ffa-4ad0-9de2-dbdb322ce47f",
   "metadata": {},
   "outputs": [],
   "source": [
    "How are measures of dispersion such as range, variance, and standard deviation used to describe \n",
    "the spread of a dataset? Provide an example."
   ]
  },
  {
   "cell_type": "code",
   "execution_count": null,
   "id": "8df02389-df0d-4c1e-bd13-1d93e1d22313",
   "metadata": {},
   "outputs": [],
   "source": []
  },
  {
   "cell_type": "code",
   "execution_count": null,
   "id": "82fd16de-83f6-4645-824d-4f5a3e41c6ce",
   "metadata": {},
   "outputs": [],
   "source": []
  },
  {
   "cell_type": "markdown",
   "id": "4cad2bd2-7e4f-48be-9c75-6cb34eca392c",
   "metadata": {},
   "source": [
    "Question no.6"
   ]
  },
  {
   "cell_type": "code",
   "execution_count": null,
   "id": "b29264fe-70e5-4101-b396-f5b3c6e6a370",
   "metadata": {},
   "outputs": [],
   "source": [
    "What is a Venn diagram?\n",
    "\n",
    "Ans > A Venn diagram uses overlapping circles or other shapes to illustrate \n",
    "      the logical relationships between two or more sets of items. "
   ]
  },
  {
   "cell_type": "markdown",
   "id": "0f931d7d-d264-4cba-b670-b61215eb2ba4",
   "metadata": {},
   "source": [
    "Question no.7"
   ]
  },
  {
   "cell_type": "code",
   "execution_count": null,
   "id": "cbb7249b-9f46-415a-8e36-6bcde7fa8a63",
   "metadata": {},
   "outputs": [],
   "source": [
    " For the two given sets A = (2,3,4,5,6,7) & B = (0,2,6,8,10). Find:\n",
    "\n",
    "(i) \tA union B\n",
    "\n",
    "(ii)\tA ⋃ B"
   ]
  },
  {
   "cell_type": "code",
   "execution_count": null,
   "id": "879c6a98-5a79-404c-88a1-b966183e8205",
   "metadata": {},
   "outputs": [],
   "source": [
    "(i) \tA union B = {0,2,3,4,5,6,7,8,10}\n",
    "(ii)\tA ⋃ B = {2,6}"
   ]
  },
  {
   "cell_type": "markdown",
   "id": "abead887-9242-45f7-a6c0-47a8abd1090b",
   "metadata": {},
   "source": [
    "Question no.8"
   ]
  },
  {
   "cell_type": "code",
   "execution_count": null,
   "id": "63198fdc-80ba-4eee-9b66-64065455e19a",
   "metadata": {},
   "outputs": [],
   "source": [
    " What do you understand about skewness in data?\n",
    "    \n",
    "Ans > Skewness is a measure of asymmetry or distortion of symmetric distribution. It measures the deviation of the given\n",
    "      distribution of a random variable from a symmetric distribution, such as normal distribution.   \n",
    "     "
   ]
  },
  {
   "cell_type": "markdown",
   "id": "31556c2d-2401-42e8-bd63-754d3886fc3f",
   "metadata": {},
   "source": [
    "Question no.9"
   ]
  },
  {
   "cell_type": "code",
   "execution_count": null,
   "id": "cf2acc3a-6469-4414-a8df-8f2b722164b0",
   "metadata": {},
   "outputs": [],
   "source": [
    " If a data is right skewed then what will be the position of median with respect to mean?\n",
    "    \n",
    "Ans > mean is greater than median"
   ]
  },
  {
   "cell_type": "markdown",
   "id": "9fa68911-634c-4b59-a505-4508df45f9bf",
   "metadata": {},
   "source": [
    "Question no.10"
   ]
  },
  {
   "cell_type": "code",
   "execution_count": null,
   "id": "dad14067-9a7b-4bcb-9d3e-10d6c4718b68",
   "metadata": {},
   "outputs": [],
   "source": [
    "> Explain the difference between covariance and correlation. How are these measures used in \n",
    "  statistical analysis?\n",
    "\n",
    "\n",
    "Ans >                Covariance\t                                                            Correlation\n",
    " 1>       Covariance is a measure to indicate the extent to which two     Correlation is a measure used to represent how strongly two random variables are related to each other.\n",
    "        random variables change in tandem.\n",
    "        \n",
    " 2>     Covariance is nothing but a measure of correlation.             Correlation refers to the scaled form of covariance.\n",
    "                                                                    \n",
    " 3>       Covariance indicates the direction of the linear                Correlation on the other hand measures both the strength and direction of \n",
    "         relationship between variables.\t                            the linear relationship between two variables.\n",
    "        \n",
    " 4>     Covariance can vary between -∞ and +∞\t                        Correlation ranges between -1 and +1\n",
    "\n",
    "  "
   ]
  },
  {
   "cell_type": "markdown",
   "id": "d58c2814-504a-4c17-979a-7b0b2cf63ae0",
   "metadata": {},
   "source": [
    "Question no.11"
   ]
  },
  {
   "cell_type": "code",
   "execution_count": null,
   "id": "62eb98bc-caca-48d8-91c6-32bca5f55b43",
   "metadata": {},
   "outputs": [],
   "source": [
    " What is the formula for calculating the sample mean? Provide an example calculation for a \n",
    "     dataset."
   ]
  },
  {
   "cell_type": "code",
   "execution_count": null,
   "id": "05ad6fa6-4893-40a1-a3c0-a71e50647011",
   "metadata": {},
   "outputs": [],
   "source": [
    "Ans> \n",
    "     mean = sum of all elements present in datasets / number of elemelements \n",
    "    \n",
    "    "
   ]
  },
  {
   "cell_type": "code",
   "execution_count": null,
   "id": "2d9702a6-ed54-482a-bd3b-a5555fd0b378",
   "metadata": {},
   "outputs": [],
   "source": [
    " data = [2,3,4,5,6,7]\n",
    "\n",
    "    mean = 2+3+4+5+6+7/6 = 21.16\n",
    "    "
   ]
  },
  {
   "cell_type": "markdown",
   "id": "75956dd7-58ac-4d22-a2d5-ee26e5f9c029",
   "metadata": {},
   "source": [
    "Question no.12"
   ]
  },
  {
   "cell_type": "code",
   "execution_count": null,
   "id": "678f71d6-7cd6-4add-b06c-6bfd5122f83d",
   "metadata": {},
   "outputs": [],
   "source": [
    "For a normal distribution data what is the relationship between its measure of central tendency?\n",
    "\n",
    "Ans > Mean"
   ]
  },
  {
   "cell_type": "markdown",
   "id": "d6f614b9-b1cc-47fb-a50f-f93457159927",
   "metadata": {},
   "source": [
    "Question no.13"
   ]
  },
  {
   "cell_type": "code",
   "execution_count": null,
   "id": "6990644c-bd20-4719-a599-2acbe875785d",
   "metadata": {},
   "outputs": [],
   "source": [
    " How is covariance different from correlation?\n",
    "    \n",
    "Ans > correlation have a specific limit lavue but in covariance does not have a specific limit value \n",
    "    "
   ]
  },
  {
   "cell_type": "markdown",
   "id": "680f83c1-b381-4d2f-b9d2-e0087d80ad09",
   "metadata": {},
   "source": [
    "Question no.14"
   ]
  },
  {
   "cell_type": "code",
   "execution_count": null,
   "id": "e1cc1bfe-7b3b-4a1e-990c-65ec459db24f",
   "metadata": {},
   "outputs": [],
   "source": [
    "How do outliers affect measures of central tendency and dispersion? Provide an example.\n",
    "\n",
    " Ans> An outlier can affect the mean by being unusually small or unusually large. \n",
    "\n",
    "\n"
   ]
  },
  {
   "cell_type": "code",
   "execution_count": null,
   "id": "42cddc2c-442a-43bf-bb8d-0a194ea4b8c4",
   "metadata": {},
   "outputs": [],
   "source": [
    "import numpy as np\n",
    "age = [12,21,23,45,65,43,56,45,32,67,54,34]  # out l\n",
    "np.mean(age)"
   ]
  },
  {
   "cell_type": "code",
   "execution_count": null,
   "id": "ce386abe-9add-407f-bfc8-b10668b47539",
   "metadata": {},
   "outputs": [],
   "source": []
  }
 ],
 "metadata": {
  "kernelspec": {
   "display_name": "Python 3 (ipykernel)",
   "language": "python",
   "name": "python3"
  },
  "language_info": {
   "codemirror_mode": {
    "name": "ipython",
    "version": 3
   },
   "file_extension": ".py",
   "mimetype": "text/x-python",
   "name": "python",
   "nbconvert_exporter": "python",
   "pygments_lexer": "ipython3",
   "version": "3.10.6"
  }
 },
 "nbformat": 4,
 "nbformat_minor": 5
}
